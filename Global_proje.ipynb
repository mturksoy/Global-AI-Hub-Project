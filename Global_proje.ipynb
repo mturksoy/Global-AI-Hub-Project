{
 "cells": [
  {
   "cell_type": "code",
   "execution_count": 12,
   "id": "8b7e0f1f-edf4-4a94-92dc-f304841666c1",
   "metadata": {},
   "outputs": [],
   "source": [
    "import random\n",
    "\n",
    "class tas_kagit_makas_MUHAMMET_IHSAN_TURKSOY:\n",
    "    def __init__(self, ad):\n",
    "        self.calisma = True\n",
    "        self.ad = ad\n",
    "        self.oyuncuTurSkoru, self.pcTurSkoru, self.oyunSayisi = 0, 0, 1\n",
    "        self.oyuncuOyunSkoru, self.pcOyunSkoru = 0, 0\n",
    "        self.olasiSecimler = [\"Tas\", \"Makas\", \"Kagit\"] \n",
    "        self.hosgeldinMesaji()\n",
    "\n",
    "    def program(self):\n",
    "        self.oyun()\n",
    "        self.devam_mi_tamam_mi()\n",
    "\n",
    "    def hosgeldinMesaji(self):\n",
    "        print(\"Merhaba \" + self.ad + \", Taş Kağıt Makas oyununa hoş geldiniz.\\n\")\n",
    "        print(\"\"\"Bu oyun, basit bir taş kağıt makas oyunudur. Her turda, siz ve bilgisayar (taş, kağıt, makas) seçeneklerinden birini seçersiniz.\n",
    "Her bir nesnenin bir diğerine karşı üstünlüğü veya zayıflığı vardır;\n",
    "        * Makas, kağıda karşı güçlü, ancak taşa karşı zayıftır.\n",
    "        * Kağıt, taşa karşı güçlü, ancak makasa karşı zayıftır.\n",
    "        * Taş, makasa karşı güçlü, ancak kağıda karşı zayıftır.\n",
    "Her bir oyun sonunda oyuna devam etmek isteyip istemediğiniz sorulacaktır.\n",
    "İlk 2 skoru elde eden taraf oyunu kazanır.\n",
    "Eğer tur ortasında çıkmak isterseniz 'Exit' yazmanız yeterlidir.\n",
    "Ayrıca, seçimlerinizi yazarken Türkçe karakter veya boşluk kullanırsanız, bu da dikkate alınacaktır.\\n\\n\"\"\")\n",
    "        \n",
    "        while True:\n",
    "            try:\n",
    "                baslangicSecimi = input(\"Kuralları anladıysanız, Taş Kağıt Makas oynamaya hazır mısınız? (E/H): \").upper()\n",
    "                if baslangicSecimi == 'E':\n",
    "                    print(\"Oyun başlıyor. Bol şans.\\n\")\n",
    "                    break\n",
    "                elif baslangicSecimi == 'H':\n",
    "                    print(\"Oyundan çıkılıyor. Daha sonra tekrar deneyin.\")\n",
    "                    self.calisma = False\n",
    "                    break\n",
    "                    \n",
    "                print(\"Lütfen E ya da H seçeneklerinden birini giriniz...\")\n",
    "            except:\n",
    "                print(\"Lütfen yeniden deneyin...\")\n",
    "\n",
    "    def oyun(self):\n",
    "        turSayisi = 1\n",
    "        while True:\n",
    "            self.skorTablosu(turSayisi)\n",
    "            while True:    \n",
    "                oyuncuSecimi = input(\"Hangi hareketi yapmayı tercih ediyorsunuz? (Taş, Kağıt, Makas) (Çıkmak için Exit yazın): \").replace(\" \", \"\").lower().capitalize()\n",
    "                if oyuncuSecimi == \"Exit\":\n",
    "                    print(\"Oyun sona erdi.\")\n",
    "                    self.calisma = False\n",
    "                    return\n",
    "                oyuncuSecimi = self.ingilizceKaraktereCevir(oyuncuSecimi)\n",
    "                if oyuncuSecimi in self.olasiSecimler:\n",
    "                    break\n",
    "                print(\"Lütfen Taş, Kağıt veya Makas seçeneklerinden birini giriniz...\")\n",
    "    \n",
    "            pcSecimi = random.choice(self.olasiSecimler)\n",
    "            \n",
    "            print(\"\\n######################################################\\n\")\n",
    "            print(\"Seçimler...\\nOyuncu: {}\\nBilgisayar: {}\".format(oyuncuSecimi, pcSecimi))\n",
    "            self.kazananiBelirle(oyuncuSecimi, pcSecimi)\n",
    "\n",
    "            if self.oyuncuTurSkoru == 2:\n",
    "                print(\"Bu oyunu siz kazandınız.\")\n",
    "                self.oyuncuOyunSkoru += 1\n",
    "                break\n",
    "            elif self.pcTurSkoru == 2:\n",
    "                print(\"Bu oyunu bilgisayar kazandı.\")\n",
    "                self.pcOyunSkoru += 1\n",
    "                break\n",
    "            \n",
    "            turSayisi += 1\n",
    "                \n",
    "    def skorTablosu(self, turSayisi):\n",
    "        print(\"######################################################\\n\")\n",
    "        print(\"                 OYUN: {}   TUR: {}\".format(self.oyunSayisi, turSayisi))\n",
    "        print(\"       Oyuncu Oyun Skoru: {}  Bilgisayar Oyun Skoru: {}\".format(self.oyuncuOyunSkoru, self.pcOyunSkoru))\n",
    "        print(\"        Oyuncu Tur Skoru: {}   Bilgisayar Tur Skoru: {}\".format(self.oyuncuTurSkoru, self.pcTurSkoru))\n",
    "\n",
    "    def ingilizceKaraktereCevir(self, metin):\n",
    "        turkceKarakterler = {\"ş\": \"s\", \"ğ\": \"g\", \"ı\": \"i\"}\n",
    "        for harf in metin:\n",
    "            if harf in turkceKarakterler:\n",
    "                metin = metin.replace(harf, turkceKarakterler[harf])\n",
    "\n",
    "        return metin\n",
    "\n",
    "    def kazananiBelirle(self, oyuncuSecimi, pcSecimi):\n",
    "        if oyuncuSecimi == pcSecimi:\n",
    "            print(\"Sonuç berabere\")\n",
    "\n",
    "        elif oyuncuSecimi == \"Tas\" and pcSecimi == \"Kagit\":\n",
    "            print(\"Bu turun kazananı: Bilgisayar\")\n",
    "            self.pcTurSkoru += 1\n",
    "        \n",
    "        elif oyuncuSecimi == \"Tas\" and pcSecimi == \"Makas\":\n",
    "            print(\"Bu turun kazananı: Oyuncu\")\n",
    "            self.oyuncuTurSkoru += 1\n",
    "\n",
    "        elif oyuncuSecimi == \"Kagit\" and pcSecimi == \"Tas\":\n",
    "            print(\"Bu turun kazananı: Oyuncu\")\n",
    "            self.oyuncuTurSkoru += 1\n",
    "        \n",
    "        elif oyuncuSecimi == \"Kagit\" and pcSecimi == \"Makas\":\n",
    "            print(\"Bu turun kazananı: Bilgisayar\")\n",
    "            self.pcTurSkoru += 1\n",
    "        \n",
    "        elif oyuncuSecimi == \"Makas\" and pcSecimi == \"Tas\":\n",
    "            print(\"Bu turun kazananı: Bilgisayar\")\n",
    "            self.pcTurSkoru += 1\n",
    "        \n",
    "        elif oyuncuSecimi == \"Makas\" and pcSecimi == \"Kagit\":\n",
    "            print(\"Bu turun kazananı: Oyuncu\")\n",
    "            self.oyuncuTurSkoru += 1\n",
    "\n",
    "    def devam_mi_tamam_mi(self):\n",
    "        print(\"######################################################\\n\")\n",
    "        self.skorTablosu(0)\n",
    "        print(\"######################################################\\n\")\n",
    "        print(\"Oyun sona erdi. Başka bir tur oynamak ister misiniz?\\n\")\n",
    "        secim = input(\"Seçiminiz (E/H): \").upper()\n",
    "\n",
    "        if secim == \"H\":\n",
    "            print(\"Oyun sona erdi. Görüşmek üzere.\")\n",
    "            self.calisma = False\n",
    "            return\n",
    "\n",
    "        print(\"Tekrar oynamak istediğinizi belirttiniz. Ancak, bilgisayarın da bu konuda bir seçim hakkı var.\")\n",
    "        pcSecim = random.choice([\"E\", \"H\"])\n",
    "        \n",
    "        if pcSecim == \"E\":\n",
    "            print(\"Bilgisayar, yeni bir oyun oynamayı kabul etti. Yeni bir oyun başlıyor.\")\n",
    "            self.oyuncuTurSkoru = 0\n",
    "            self.pcTurSkoru = 0\n",
    "            self.oyunSayisi += 1\n",
    "        \n",
    "        else:\n",
    "            print(\"Bilgisayar oyunu sonlandırmayı tercih etti. Bir dahaki sefere görüşmek üzere.\")\n",
    "            self.calisma = False\n"
   ]
  },
  {
   "cell_type": "code",
   "execution_count": 14,
   "id": "cc6204e5-870c-43fd-8898-e47bb01bef88",
   "metadata": {},
   "outputs": [
    {
     "name": "stdout",
     "output_type": "stream",
     "text": [
      "Merhaba YOUR_NAME, Taş Kağıt Makas oyununa hoş geldiniz.\n",
      "\n",
      "Bu oyun, basit bir taş kağıt makas oyunudur. Her turda, siz ve bilgisayar (taş, kağıt, makas) seçeneklerinden birini seçersiniz.\n",
      "Her bir nesnenin bir diğerine karşı üstünlüğü veya zayıflığı vardır;\n",
      "        * Makas, kağıda karşı güçlü, ancak taşa karşı zayıftır.\n",
      "        * Kağıt, taşa karşı güçlü, ancak makasa karşı zayıftır.\n",
      "        * Taş, makasa karşı güçlü, ancak kağıda karşı zayıftır.\n",
      "Her bir oyun sonunda oyuna devam etmek isteyip istemediğiniz sorulacaktır.\n",
      "İlk 2 skoru elde eden taraf oyunu kazanır.\n",
      "Eğer tur ortasında çıkmak isterseniz 'Exit' yazmanız yeterlidir.\n",
      "Ayrıca, seçimlerinizi yazarken Türkçe karakter veya boşluk kullanırsanız, bu da dikkate alınacaktır.\n",
      "\n",
      "\n"
     ]
    },
    {
     "name": "stdin",
     "output_type": "stream",
     "text": [
      "Kuralları anladıysanız, Taş Kağıt Makas oynamaya hazır mısınız? (E/H):  e\n"
     ]
    },
    {
     "name": "stdout",
     "output_type": "stream",
     "text": [
      "Oyun başlıyor. Bol şans.\n",
      "\n",
      "######################################################\n",
      "\n",
      "                 OYUN: 1   TUR: 1\n",
      "       Oyuncu Oyun Skoru: 0  Bilgisayar Oyun Skoru: 0\n",
      "        Oyuncu Tur Skoru: 0   Bilgisayar Tur Skoru: 0\n"
     ]
    },
    {
     "name": "stdin",
     "output_type": "stream",
     "text": [
      "Hangi hareketi yapmayı tercih ediyorsunuz? (Taş, Kağıt, Makas) (Çıkmak için Exit yazın):  tas\n"
     ]
    },
    {
     "name": "stdout",
     "output_type": "stream",
     "text": [
      "\n",
      "######################################################\n",
      "\n",
      "Seçimler...\n",
      "Oyuncu: Tas\n",
      "Bilgisayar: Makas\n",
      "Bu turun kazananı: Oyuncu\n",
      "######################################################\n",
      "\n",
      "                 OYUN: 1   TUR: 2\n",
      "       Oyuncu Oyun Skoru: 0  Bilgisayar Oyun Skoru: 0\n",
      "        Oyuncu Tur Skoru: 1   Bilgisayar Tur Skoru: 0\n"
     ]
    },
    {
     "name": "stdin",
     "output_type": "stream",
     "text": [
      "Hangi hareketi yapmayı tercih ediyorsunuz? (Taş, Kağıt, Makas) (Çıkmak için Exit yazın):  tas\n"
     ]
    },
    {
     "name": "stdout",
     "output_type": "stream",
     "text": [
      "\n",
      "######################################################\n",
      "\n",
      "Seçimler...\n",
      "Oyuncu: Tas\n",
      "Bilgisayar: Makas\n",
      "Bu turun kazananı: Oyuncu\n",
      "Bu oyunu siz kazandınız.\n",
      "######################################################\n",
      "\n",
      "######################################################\n",
      "\n",
      "                 OYUN: 1   TUR: 0\n",
      "       Oyuncu Oyun Skoru: 1  Bilgisayar Oyun Skoru: 0\n",
      "        Oyuncu Tur Skoru: 2   Bilgisayar Tur Skoru: 0\n",
      "######################################################\n",
      "\n",
      "Oyun sona erdi. Başka bir tur oynamak ister misiniz?\n",
      "\n"
     ]
    },
    {
     "name": "stdin",
     "output_type": "stream",
     "text": [
      "Seçiminiz (E/H):  e\n"
     ]
    },
    {
     "name": "stdout",
     "output_type": "stream",
     "text": [
      "Tekrar oynamak istediğinizi belirttiniz. Ancak, bilgisayarın da bu konuda bir seçim hakkı var.\n",
      "Bilgisayar, yeni bir oyun oynamayı kabul etti. Yeni bir oyun başlıyor.\n",
      "######################################################\n",
      "\n",
      "                 OYUN: 2   TUR: 1\n",
      "       Oyuncu Oyun Skoru: 1  Bilgisayar Oyun Skoru: 0\n",
      "        Oyuncu Tur Skoru: 0   Bilgisayar Tur Skoru: 0\n"
     ]
    },
    {
     "name": "stdin",
     "output_type": "stream",
     "text": [
      "Hangi hareketi yapmayı tercih ediyorsunuz? (Taş, Kağıt, Makas) (Çıkmak için Exit yazın):  tas\n"
     ]
    },
    {
     "name": "stdout",
     "output_type": "stream",
     "text": [
      "\n",
      "######################################################\n",
      "\n",
      "Seçimler...\n",
      "Oyuncu: Tas\n",
      "Bilgisayar: Kagit\n",
      "Bu turun kazananı: Bilgisayar\n",
      "######################################################\n",
      "\n",
      "                 OYUN: 2   TUR: 2\n",
      "       Oyuncu Oyun Skoru: 1  Bilgisayar Oyun Skoru: 0\n",
      "        Oyuncu Tur Skoru: 0   Bilgisayar Tur Skoru: 1\n"
     ]
    },
    {
     "name": "stdin",
     "output_type": "stream",
     "text": [
      "Hangi hareketi yapmayı tercih ediyorsunuz? (Taş, Kağıt, Makas) (Çıkmak için Exit yazın):  tas\n"
     ]
    },
    {
     "name": "stdout",
     "output_type": "stream",
     "text": [
      "\n",
      "######################################################\n",
      "\n",
      "Seçimler...\n",
      "Oyuncu: Tas\n",
      "Bilgisayar: Makas\n",
      "Bu turun kazananı: Oyuncu\n",
      "######################################################\n",
      "\n",
      "                 OYUN: 2   TUR: 3\n",
      "       Oyuncu Oyun Skoru: 1  Bilgisayar Oyun Skoru: 0\n",
      "        Oyuncu Tur Skoru: 1   Bilgisayar Tur Skoru: 1\n"
     ]
    },
    {
     "name": "stdin",
     "output_type": "stream",
     "text": [
      "Hangi hareketi yapmayı tercih ediyorsunuz? (Taş, Kağıt, Makas) (Çıkmak için Exit yazın):  tas\n"
     ]
    },
    {
     "name": "stdout",
     "output_type": "stream",
     "text": [
      "\n",
      "######################################################\n",
      "\n",
      "Seçimler...\n",
      "Oyuncu: Tas\n",
      "Bilgisayar: Makas\n",
      "Bu turun kazananı: Oyuncu\n",
      "Bu oyunu siz kazandınız.\n",
      "######################################################\n",
      "\n",
      "######################################################\n",
      "\n",
      "                 OYUN: 2   TUR: 0\n",
      "       Oyuncu Oyun Skoru: 2  Bilgisayar Oyun Skoru: 0\n",
      "        Oyuncu Tur Skoru: 2   Bilgisayar Tur Skoru: 1\n",
      "######################################################\n",
      "\n",
      "Oyun sona erdi. Başka bir tur oynamak ister misiniz?\n",
      "\n"
     ]
    },
    {
     "name": "stdin",
     "output_type": "stream",
     "text": [
      "Seçiminiz (E/H):  e\n"
     ]
    },
    {
     "name": "stdout",
     "output_type": "stream",
     "text": [
      "Tekrar oynamak istediğinizi belirttiniz. Ancak, bilgisayarın da bu konuda bir seçim hakkı var.\n",
      "Bilgisayar oyunu sonlandırmayı tercih etti. Bir dahaki sefere görüşmek üzere.\n"
     ]
    }
   ],
   "source": [
    "#Oyunu başlatmadan önce class constructor'ının içine isminizi yazınız.\n",
    "tasKagitMakas = tas_kagit_makas_MUHAMMET_IHSAN_TURKSOY(\"YOUR_NAME\")\n",
    "\n",
    "while tasKagitMakas.calisma:\n",
    "    tasKagitMakas.program()"
   ]
  }
 ],
 "metadata": {
  "kernelspec": {
   "display_name": "Python 3 (ipykernel)",
   "language": "python",
   "name": "python3"
  },
  "language_info": {
   "codemirror_mode": {
    "name": "ipython",
    "version": 3
   },
   "file_extension": ".py",
   "mimetype": "text/x-python",
   "name": "python",
   "nbconvert_exporter": "python",
   "pygments_lexer": "ipython3",
   "version": "3.12.4"
  }
 },
 "nbformat": 4,
 "nbformat_minor": 5
}
